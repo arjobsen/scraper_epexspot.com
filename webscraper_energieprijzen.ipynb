{
 "cells": [
  {
   "cell_type": "markdown",
   "id": "e2aac3a5",
   "metadata": {},
   "source": [
    "# Webscraper energieprijzen\n",
    "URLs:\n",
    "* https://www.epexspot.com/en/market-data\n",
    "* https://www.energyzero.nl/energiecontract/stroom-en-gas/flextarieven"
   ]
  },
  {
   "cell_type": "code",
   "execution_count": null,
   "id": "089a4df1",
   "metadata": {},
   "outputs": [],
   "source": [
    "import pandas as pd\n",
    "import requests\n",
    "import webbrowser\n",
    "from pathlib import Path\n",
    "from datetime import date, timedelta, datetime\n",
    "import re\n",
    "import lxml.html as html\n",
    "import dropbox"
   ]
  },
  {
   "cell_type": "code",
   "execution_count": null,
   "id": "15000efa",
   "metadata": {},
   "outputs": [],
   "source": [
    "# We willen de prijzen van morgen\n",
    "today = date.today()\n",
    "tomorrow = today + timedelta(1)"
   ]
  },
  {
   "cell_type": "code",
   "execution_count": null,
   "id": "095cbcd5",
   "metadata": {},
   "outputs": [],
   "source": [
    "# Browse naar website\n",
    "url = \"https://www.epexspot.com/en/market-data\"\n",
    "params = {\n",
    "    \"market_area\": \"NL\",\n",
    "    \"trading_date\": today,\n",
    "    \"delivery_date\": tomorrow,\n",
    "    \"modality\": \"Auction\",\n",
    "    \"sub_modality\": \"DayAhead\",\n",
    "    \"product\": 60,\n",
    "    \"data_mode\": \"table\",\n",
    "    \n",
    "}\n",
    "print(\"GET\", params)\n",
    "page = requests.get(url, params=params)\n",
    "assert page.status_code == 200\n",
    "\n",
    "# Get html content\n",
    "content = html.fromstring(page.content)"
   ]
  },
  {
   "cell_type": "code",
   "execution_count": null,
   "id": "77f93fe7",
   "metadata": {},
   "outputs": [],
   "source": [
    "# Let op: Bij een toekomstige datum waar de data nog niet van bekend is, springt de URL terug naar die van vandaag\n",
    "# Dus check de datum in <h2>\n",
    "h2 = content.cssselect(\"h2\")\n",
    "assert len(h2) == 1\n",
    "h2 = h2[0].text\n",
    "\n",
    "# Alle aansluitende whitespace reduceren naar 1 spatie en strip uiteinden\n",
    "h2 = re.sub(r\"\\s+\", \" \", h2).strip()\n",
    "print(\"<h2>\", h2)\n",
    "\n",
    "# Pak laatste element na >\n",
    "m = re.match(r\".* > (.*)\", h2)\n",
    "d = datetime.strptime(m.group(1), \"%d %B %Y\").date()\n",
    "assert d == tomorrow"
   ]
  },
  {
   "cell_type": "code",
   "execution_count": null,
   "id": "cea85367",
   "metadata": {},
   "outputs": [],
   "source": [
    "# Print ook het laatste moment van updaten\n",
    "last_update = re.sub(r\"\\s+\", \" \", content.cssselect(\"span.last-update\")[0].text)\n",
    "print(last_update)"
   ]
  },
  {
   "cell_type": "code",
   "execution_count": null,
   "id": "55e256bd",
   "metadata": {},
   "outputs": [],
   "source": [
    "# Selecteer de <table>\n",
    "tbody = content.cssselect(\"tbody\")\n",
    "assert len(tbody) == 1\n",
    "tbody = tbody[0]\n",
    "tr_s = tbody.cssselect(\"tr\")\n",
    "assert len(tr_s) == 24"
   ]
  },
  {
   "cell_type": "code",
   "execution_count": null,
   "id": "01df400d",
   "metadata": {},
   "outputs": [],
   "source": [
    "# Optioneel: bekijk html in browser\n",
    "path = Path().resolve()\n",
    "filename = \"tmp.html\"\n",
    "with open(path / filename, \"w\") as f:\n",
    "    f.write(str(page.content))\n",
    "\n",
    "webbrowser.open_new_tab(f\"file:///{path / filename}\")"
   ]
  },
  {
   "cell_type": "code",
   "execution_count": null,
   "id": "7e54d84e",
   "metadata": {
    "scrolled": true
   },
   "outputs": [],
   "source": [
    "# Scrape de tabel\n",
    "d = {\n",
    "    \"day\": tomorrow,\n",
    "    \"hours\": sorted(range(24)),\n",
    "    \"buy_volume\": [],\n",
    "    \"sell_volume\": [],\n",
    "    \"volume\": [],\n",
    "    \"price\": [],\n",
    "}\n",
    "column_headers = [\"buy_volume\", \"sell_volume\", \"volume\", \"price\"]\n",
    "for tr in tr_s:\n",
    "    for column_header, td in zip(column_headers, tr.cssselect(\"td\")):\n",
    "        d[column_header].append(td.text)\n",
    "\n",
    "df = pd.DataFrame(d)\n",
    "df"
   ]
  },
  {
   "cell_type": "code",
   "execution_count": null,
   "id": "acacce96",
   "metadata": {},
   "outputs": [],
   "source": [
    "# Connect to Dropbox\n",
    "import yaml\n",
    "with open('cred.yaml', 'r') as file:\n",
    "    cred = yaml.safe_load(file)\n",
    "\n",
    "access_token = cred[\"db_key\"]\n",
    "dbx = dropbox.Dropbox(access_token)\n",
    "assert dbx.users_get_current_account().name.abbreviated_name == \"AB\""
   ]
  },
  {
   "cell_type": "code",
   "execution_count": null,
   "id": "c0a528e1",
   "metadata": {},
   "outputs": [],
   "source": [
    "# Upload csv\n",
    "binary_csv = df.to_csv(index=False).encode('utf-8')\n",
    "filename = f\"/epexspot_{tomorrow}.csv\"\n",
    "dbx.files_upload(binary_csv, filename, mode=dropbox.files.WriteMode(\"overwrite\"))"
   ]
  },
  {
   "cell_type": "code",
   "execution_count": null,
   "id": "6e67d60d",
   "metadata": {},
   "outputs": [],
   "source": [
    "# Print files in folder\n",
    "result = dbx.files_list_folder('')\n",
    "for entry in result.entries:\n",
    "    print(entry.path_display)"
   ]
  }
 ],
 "metadata": {
  "kernelspec": {
   "display_name": "Python 3",
   "language": "python",
   "name": "python3"
  },
  "language_info": {
   "codemirror_mode": {
    "name": "ipython",
    "version": 3
   },
   "file_extension": ".py",
   "mimetype": "text/x-python",
   "name": "python",
   "nbconvert_exporter": "python",
   "pygments_lexer": "ipython3",
   "version": "3.8.5"
  }
 },
 "nbformat": 4,
 "nbformat_minor": 5
}
