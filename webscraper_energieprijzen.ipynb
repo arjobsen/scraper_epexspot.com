{
 "cells": [
  {
   "cell_type": "markdown",
   "id": "e2aac3a5",
   "metadata": {},
   "source": [
    "# Webscraper energieprijzen\n",
    "URLs:\n",
    "* https://www.epexspot.com/en/market-data\n",
    "* https://www.energyzero.nl/energiecontract/stroom-en-gas/flextarieven"
   ]
  },
  {
   "cell_type": "code",
   "execution_count": 63,
   "id": "089a4df1",
   "metadata": {},
   "outputs": [],
   "source": [
    "import pandas as pd\n",
    "import requests\n",
    "import webbrowser\n",
    "from pathlib import Path\n",
    "from datetime import date, timedelta, datetime\n",
    "import re\n",
    "import lxml.html as html\n",
    "import dropbox"
   ]
  },
  {
   "cell_type": "code",
   "execution_count": 74,
   "id": "15000efa",
   "metadata": {},
   "outputs": [],
   "source": [
    "# We willen de prijzen van morgen\n",
    "today = date.today()\n",
    "tomorrow = today + timedelta(1)"
   ]
  },
  {
   "cell_type": "code",
   "execution_count": 79,
   "id": "095cbcd5",
   "metadata": {},
   "outputs": [
    {
     "name": "stdout",
     "output_type": "stream",
     "text": [
      "GET {'market_area': 'NL', 'trading_date': datetime.date(2021, 4, 6), 'delivery_date': datetime.date(2021, 4, 7), 'modality': 'Auction', 'sub_modality': 'DayAhead', 'product': 60, 'data_mode': 'table'}\n"
     ]
    }
   ],
   "source": [
    "# Browse naar website\n",
    "url = \"https://www.epexspot.com/en/market-data\"\n",
    "params = {\n",
    "    \"market_area\": \"NL\",\n",
    "    \"trading_date\": today,\n",
    "    \"delivery_date\": tomorrow,\n",
    "    \"modality\": \"Auction\",\n",
    "    \"sub_modality\": \"DayAhead\",\n",
    "    \"product\": 60,\n",
    "    \"data_mode\": \"table\",\n",
    "    \n",
    "}\n",
    "print(\"GET\", params)\n",
    "page = requests.get(url, params=params)\n",
    "assert page.status_code == 200\n",
    "\n",
    "# Get html content\n",
    "content = html.fromstring(page.content)"
   ]
  },
  {
   "cell_type": "code",
   "execution_count": 85,
   "id": "77f93fe7",
   "metadata": {},
   "outputs": [
    {
     "name": "stdout",
     "output_type": "stream",
     "text": [
      "<h2> Auction > Day-Ahead > 60min > NL > 07 April 2021\n"
     ]
    }
   ],
   "source": [
    "# Let op: Bij een toekomstige datum waar de data nog niet van bekend is, springt de URL terug naar die van vandaag\n",
    "# Dus check de datum in <h2>\n",
    "h2 = content.cssselect(\"h2\")\n",
    "assert len(h2) == 1\n",
    "h2 = h2[0].text\n",
    "\n",
    "# Alle aansluitende whitespace reduceren naar 1 spatie en strip uiteinden\n",
    "h2 = re.sub(r\"\\s+\", \" \", h2).strip()\n",
    "print(\"<h2>\", h2)\n",
    "\n",
    "# Pak laatste element na >\n",
    "m = re.match(r\".* > (.*)\", h2)\n",
    "d = datetime.strptime(m.group(1), \"%d %B %Y\").date()\n",
    "assert d == tomorrow"
   ]
  },
  {
   "cell_type": "code",
   "execution_count": 84,
   "id": "cea85367",
   "metadata": {},
   "outputs": [
    {
     "name": "stdout",
     "output_type": "stream",
     "text": [
      "Last update: 06 April 2021 (12:43:53 CET/CEST) \n"
     ]
    }
   ],
   "source": [
    "# Print ook het laatste moment van updaten\n",
    "last_update = re.sub(r\"\\s+\", \" \", content.cssselect(\"span.last-update\")[0].text)\n",
    "print(last_update)"
   ]
  },
  {
   "cell_type": "code",
   "execution_count": 28,
   "id": "55e256bd",
   "metadata": {},
   "outputs": [],
   "source": [
    "# Selecteer de <table>\n",
    "tbody = content.cssselect(\"tbody\")\n",
    "assert len(tbody) == 1\n",
    "tbody = tbody[0]\n",
    "tr_s = tbody.cssselect(\"tr\")\n",
    "assert len(tr_s) == 24"
   ]
  },
  {
   "cell_type": "code",
   "execution_count": 12,
   "id": "01df400d",
   "metadata": {},
   "outputs": [
    {
     "data": {
      "text/plain": [
       "True"
      ]
     },
     "execution_count": 12,
     "metadata": {},
     "output_type": "execute_result"
    }
   ],
   "source": [
    "# Optioneel: bekijk html in browser\n",
    "path = Path().resolve()\n",
    "filename = \"tmp.html\"\n",
    "with open(path / filename, \"w\") as f:\n",
    "    f.write(str(page.content))\n",
    "\n",
    "webbrowser.open_new_tab(f\"file:///{path / filename}\")"
   ]
  },
  {
   "cell_type": "code",
   "execution_count": 24,
   "id": "7e54d84e",
   "metadata": {
    "scrolled": true
   },
   "outputs": [
    {
     "data": {
      "text/html": [
       "<div>\n",
       "<style scoped>\n",
       "    .dataframe tbody tr th:only-of-type {\n",
       "        vertical-align: middle;\n",
       "    }\n",
       "\n",
       "    .dataframe tbody tr th {\n",
       "        vertical-align: top;\n",
       "    }\n",
       "\n",
       "    .dataframe thead th {\n",
       "        text-align: right;\n",
       "    }\n",
       "</style>\n",
       "<table border=\"1\" class=\"dataframe\">\n",
       "  <thead>\n",
       "    <tr style=\"text-align: right;\">\n",
       "      <th></th>\n",
       "      <th>day</th>\n",
       "      <th>hours</th>\n",
       "      <th>buy_volume</th>\n",
       "      <th>sell_volume</th>\n",
       "      <th>volume</th>\n",
       "      <th>price</th>\n",
       "    </tr>\n",
       "  </thead>\n",
       "  <tbody>\n",
       "    <tr>\n",
       "      <th>0</th>\n",
       "      <td>2021-04-08</td>\n",
       "      <td>0</td>\n",
       "      <td>2,281.5</td>\n",
       "      <td>2,670.2</td>\n",
       "      <td>2,670.2</td>\n",
       "      <td>54.90</td>\n",
       "    </tr>\n",
       "    <tr>\n",
       "      <th>1</th>\n",
       "      <td>2021-04-08</td>\n",
       "      <td>1</td>\n",
       "      <td>2,198.2</td>\n",
       "      <td>3,032.2</td>\n",
       "      <td>3,032.2</td>\n",
       "      <td>45.62</td>\n",
       "    </tr>\n",
       "    <tr>\n",
       "      <th>2</th>\n",
       "      <td>2021-04-08</td>\n",
       "      <td>2</td>\n",
       "      <td>2,147.1</td>\n",
       "      <td>3,321.1</td>\n",
       "      <td>3,321.1</td>\n",
       "      <td>45.40</td>\n",
       "    </tr>\n",
       "    <tr>\n",
       "      <th>3</th>\n",
       "      <td>2021-04-08</td>\n",
       "      <td>3</td>\n",
       "      <td>2,212.6</td>\n",
       "      <td>3,464.1</td>\n",
       "      <td>3,464.1</td>\n",
       "      <td>40.67</td>\n",
       "    </tr>\n",
       "    <tr>\n",
       "      <th>4</th>\n",
       "      <td>2021-04-08</td>\n",
       "      <td>4</td>\n",
       "      <td>2,220.2</td>\n",
       "      <td>3,521.9</td>\n",
       "      <td>3,521.9</td>\n",
       "      <td>39.52</td>\n",
       "    </tr>\n",
       "    <tr>\n",
       "      <th>5</th>\n",
       "      <td>2021-04-08</td>\n",
       "      <td>5</td>\n",
       "      <td>2,262.6</td>\n",
       "      <td>3,354.7</td>\n",
       "      <td>3,354.7</td>\n",
       "      <td>42.60</td>\n",
       "    </tr>\n",
       "    <tr>\n",
       "      <th>6</th>\n",
       "      <td>2021-04-08</td>\n",
       "      <td>6</td>\n",
       "      <td>2,402.8</td>\n",
       "      <td>3,236.9</td>\n",
       "      <td>3,236.9</td>\n",
       "      <td>57.34</td>\n",
       "    </tr>\n",
       "    <tr>\n",
       "      <th>7</th>\n",
       "      <td>2021-04-08</td>\n",
       "      <td>7</td>\n",
       "      <td>2,467.9</td>\n",
       "      <td>2,985.3</td>\n",
       "      <td>2,985.3</td>\n",
       "      <td>77.88</td>\n",
       "    </tr>\n",
       "    <tr>\n",
       "      <th>8</th>\n",
       "      <td>2021-04-08</td>\n",
       "      <td>8</td>\n",
       "      <td>2,847.7</td>\n",
       "      <td>2,922.8</td>\n",
       "      <td>2,922.8</td>\n",
       "      <td>82.47</td>\n",
       "    </tr>\n",
       "    <tr>\n",
       "      <th>9</th>\n",
       "      <td>2021-04-08</td>\n",
       "      <td>9</td>\n",
       "      <td>2,739.1</td>\n",
       "      <td>3,226.2</td>\n",
       "      <td>3,226.2</td>\n",
       "      <td>65.12</td>\n",
       "    </tr>\n",
       "    <tr>\n",
       "      <th>10</th>\n",
       "      <td>2021-04-08</td>\n",
       "      <td>10</td>\n",
       "      <td>2,374.9</td>\n",
       "      <td>3,471.3</td>\n",
       "      <td>3,471.3</td>\n",
       "      <td>47.92</td>\n",
       "    </tr>\n",
       "    <tr>\n",
       "      <th>11</th>\n",
       "      <td>2021-04-08</td>\n",
       "      <td>11</td>\n",
       "      <td>2,186.9</td>\n",
       "      <td>3,313.5</td>\n",
       "      <td>3,313.5</td>\n",
       "      <td>46.36</td>\n",
       "    </tr>\n",
       "    <tr>\n",
       "      <th>12</th>\n",
       "      <td>2021-04-08</td>\n",
       "      <td>12</td>\n",
       "      <td>2,050.6</td>\n",
       "      <td>3,418.5</td>\n",
       "      <td>3,418.5</td>\n",
       "      <td>40.26</td>\n",
       "    </tr>\n",
       "    <tr>\n",
       "      <th>13</th>\n",
       "      <td>2021-04-08</td>\n",
       "      <td>13</td>\n",
       "      <td>1,891.4</td>\n",
       "      <td>3,617.7</td>\n",
       "      <td>3,617.7</td>\n",
       "      <td>37.90</td>\n",
       "    </tr>\n",
       "    <tr>\n",
       "      <th>14</th>\n",
       "      <td>2021-04-08</td>\n",
       "      <td>14</td>\n",
       "      <td>1,874.1</td>\n",
       "      <td>3,613.7</td>\n",
       "      <td>3,613.7</td>\n",
       "      <td>36.61</td>\n",
       "    </tr>\n",
       "    <tr>\n",
       "      <th>15</th>\n",
       "      <td>2021-04-08</td>\n",
       "      <td>15</td>\n",
       "      <td>1,897.0</td>\n",
       "      <td>3,310.6</td>\n",
       "      <td>3,310.6</td>\n",
       "      <td>38.00</td>\n",
       "    </tr>\n",
       "    <tr>\n",
       "      <th>16</th>\n",
       "      <td>2021-04-08</td>\n",
       "      <td>16</td>\n",
       "      <td>2,063.3</td>\n",
       "      <td>2,854.3</td>\n",
       "      <td>2,854.3</td>\n",
       "      <td>39.03</td>\n",
       "    </tr>\n",
       "    <tr>\n",
       "      <th>17</th>\n",
       "      <td>2021-04-08</td>\n",
       "      <td>17</td>\n",
       "      <td>2,815.3</td>\n",
       "      <td>2,349.8</td>\n",
       "      <td>2,815.3</td>\n",
       "      <td>42.40</td>\n",
       "    </tr>\n",
       "    <tr>\n",
       "      <th>18</th>\n",
       "      <td>2021-04-08</td>\n",
       "      <td>18</td>\n",
       "      <td>2,824.0</td>\n",
       "      <td>2,252.5</td>\n",
       "      <td>2,824.0</td>\n",
       "      <td>47.80</td>\n",
       "    </tr>\n",
       "    <tr>\n",
       "      <th>19</th>\n",
       "      <td>2021-04-08</td>\n",
       "      <td>19</td>\n",
       "      <td>2,601.0</td>\n",
       "      <td>2,036.9</td>\n",
       "      <td>2,601.0</td>\n",
       "      <td>66.00</td>\n",
       "    </tr>\n",
       "    <tr>\n",
       "      <th>20</th>\n",
       "      <td>2021-04-08</td>\n",
       "      <td>20</td>\n",
       "      <td>3,027.6</td>\n",
       "      <td>2,172.8</td>\n",
       "      <td>3,027.6</td>\n",
       "      <td>74.91</td>\n",
       "    </tr>\n",
       "    <tr>\n",
       "      <th>21</th>\n",
       "      <td>2021-04-08</td>\n",
       "      <td>21</td>\n",
       "      <td>2,990.1</td>\n",
       "      <td>2,181.0</td>\n",
       "      <td>2,990.1</td>\n",
       "      <td>75.36</td>\n",
       "    </tr>\n",
       "    <tr>\n",
       "      <th>22</th>\n",
       "      <td>2021-04-08</td>\n",
       "      <td>22</td>\n",
       "      <td>3,106.3</td>\n",
       "      <td>2,084.3</td>\n",
       "      <td>3,106.3</td>\n",
       "      <td>47.60</td>\n",
       "    </tr>\n",
       "    <tr>\n",
       "      <th>23</th>\n",
       "      <td>2021-04-08</td>\n",
       "      <td>23</td>\n",
       "      <td>3,126.7</td>\n",
       "      <td>2,020.8</td>\n",
       "      <td>3,126.7</td>\n",
       "      <td>46.31</td>\n",
       "    </tr>\n",
       "  </tbody>\n",
       "</table>\n",
       "</div>"
      ],
      "text/plain": [
       "           day  hours buy_volume sell_volume   volume  price\n",
       "0   2021-04-08      0    2,281.5     2,670.2  2,670.2  54.90\n",
       "1   2021-04-08      1    2,198.2     3,032.2  3,032.2  45.62\n",
       "2   2021-04-08      2    2,147.1     3,321.1  3,321.1  45.40\n",
       "3   2021-04-08      3    2,212.6     3,464.1  3,464.1  40.67\n",
       "4   2021-04-08      4    2,220.2     3,521.9  3,521.9  39.52\n",
       "5   2021-04-08      5    2,262.6     3,354.7  3,354.7  42.60\n",
       "6   2021-04-08      6    2,402.8     3,236.9  3,236.9  57.34\n",
       "7   2021-04-08      7    2,467.9     2,985.3  2,985.3  77.88\n",
       "8   2021-04-08      8    2,847.7     2,922.8  2,922.8  82.47\n",
       "9   2021-04-08      9    2,739.1     3,226.2  3,226.2  65.12\n",
       "10  2021-04-08     10    2,374.9     3,471.3  3,471.3  47.92\n",
       "11  2021-04-08     11    2,186.9     3,313.5  3,313.5  46.36\n",
       "12  2021-04-08     12    2,050.6     3,418.5  3,418.5  40.26\n",
       "13  2021-04-08     13    1,891.4     3,617.7  3,617.7  37.90\n",
       "14  2021-04-08     14    1,874.1     3,613.7  3,613.7  36.61\n",
       "15  2021-04-08     15    1,897.0     3,310.6  3,310.6  38.00\n",
       "16  2021-04-08     16    2,063.3     2,854.3  2,854.3  39.03\n",
       "17  2021-04-08     17    2,815.3     2,349.8  2,815.3  42.40\n",
       "18  2021-04-08     18    2,824.0     2,252.5  2,824.0  47.80\n",
       "19  2021-04-08     19    2,601.0     2,036.9  2,601.0  66.00\n",
       "20  2021-04-08     20    3,027.6     2,172.8  3,027.6  74.91\n",
       "21  2021-04-08     21    2,990.1     2,181.0  2,990.1  75.36\n",
       "22  2021-04-08     22    3,106.3     2,084.3  3,106.3  47.60\n",
       "23  2021-04-08     23    3,126.7     2,020.8  3,126.7  46.31"
      ]
     },
     "execution_count": 24,
     "metadata": {},
     "output_type": "execute_result"
    }
   ],
   "source": [
    "# Scrape de tabel\n",
    "d = {\n",
    "    \"day\": tomorrow,\n",
    "    \"hours\": sorted(range(24)),\n",
    "    \"buy_volume\": [],\n",
    "    \"sell_volume\": [],\n",
    "    \"volume\": [],\n",
    "    \"price\": [],\n",
    "}\n",
    "column_headers = [\"buy_volume\", \"sell_volume\", \"volume\", \"price\"]\n",
    "for tr in tr_s:\n",
    "    for column_header, td in zip(column_headers, tr.cssselect(\"td\")):\n",
    "        d[column_header].append(td.text)\n",
    "\n",
    "df = pd.DataFrame(d)\n",
    "df"
   ]
  },
  {
   "cell_type": "code",
   "execution_count": null,
   "id": "acacce96",
   "metadata": {},
   "outputs": [],
   "source": [
    "# Connect to Dropbox\n",
    "access_token = \"W9SIGAIOPbcAAAAAAAAAAcbg_ogFc8xw3lBhJeybL7phj6AZdrV5_CyQCgnPFZlt\"\n",
    "dbx = dropbox.Dropbox(access_token)\n",
    "assert dbx.users_get_current_account().name.abbreviated_name == \"AB\""
   ]
  },
  {
   "cell_type": "code",
   "execution_count": 19,
   "id": "c0a528e1",
   "metadata": {},
   "outputs": [
    {
     "data": {
      "text/plain": [
       "FileMetadata(client_modified=datetime.datetime(2021, 4, 6, 12, 16, 55), content_hash='8afd5f42714e607efe47e712ad96f2888e8e633e638abc3f8b9cb03bae6be17d', export_info=NOT_SET, file_lock_info=NOT_SET, has_explicit_shared_members=NOT_SET, id='id:jwa9lCFnHysAAAAAAAAKuA', is_downloadable=True, media_info=NOT_SET, name='epexspot_2021-04-07.csv', parent_shared_folder_id=NOT_SET, path_display='/epexspot_2021-04-07.csv', path_lower='/epexspot_2021-04-07.csv', property_groups=NOT_SET, rev='015bf4cca4d1ca6000000022fc32290', server_modified=datetime.datetime(2021, 4, 6, 12, 16, 56), sharing_info=NOT_SET, size=1236, symlink_info=NOT_SET)"
      ]
     },
     "execution_count": 19,
     "metadata": {},
     "output_type": "execute_result"
    }
   ],
   "source": [
    "# Upload csv\n",
    "binary_csv = df.to_csv(index=False).encode('utf-8')\n",
    "filename = f\"/epexspot_{tomorrow}.csv\"\n",
    "dbx.files_upload(binary_csv, filename, mode=dropbox.files.WriteMode(\"overwrite\"))"
   ]
  },
  {
   "cell_type": "code",
   "execution_count": 20,
   "id": "6e67d60d",
   "metadata": {},
   "outputs": [
    {
     "name": "stdout",
     "output_type": "stream",
     "text": [
      "/epexspot_2021-04-06.csv\n",
      "/epexspot_2021-04-05.csv\n",
      "/epexspot_2021-04-07.csv\n"
     ]
    }
   ],
   "source": [
    "# Print files in folder\n",
    "result = dbx.files_list_folder('')\n",
    "for entry in result.entries:\n",
    "    print(entry.path_display)"
   ]
  }
 ],
 "metadata": {
  "kernelspec": {
   "display_name": "Python 3",
   "language": "python",
   "name": "python3"
  },
  "language_info": {
   "codemirror_mode": {
    "name": "ipython",
    "version": 3
   },
   "file_extension": ".py",
   "mimetype": "text/x-python",
   "name": "python",
   "nbconvert_exporter": "python",
   "pygments_lexer": "ipython3",
   "version": "3.8.5"
  }
 },
 "nbformat": 4,
 "nbformat_minor": 5
}
